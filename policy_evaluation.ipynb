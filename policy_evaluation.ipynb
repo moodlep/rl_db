{
 "cells": [
  {
   "cell_type": "code",
   "execution_count": 1,
   "metadata": {
    "collapsed": true
   },
   "outputs": [],
   "source": [
    "import numpy as np\n",
    "from gym.envs.denny.gridworld import GridworldEnv"
   ]
  },
  {
   "cell_type": "code",
   "execution_count": 19,
   "metadata": {},
   "outputs": [],
   "source": [
    "def policy_eval(policy, env, discount_factor=1.0, theta=0.00001):\n",
    "    \"\"\"\n",
    "    Evaluate a policy given an environment and a full description of the environment's dynamics.\n",
    "    \n",
    "    Args:\n",
    "        policy: [S, A] shaped matrix representing the policy.\n",
    "        env: OpenAI env. env.P represents the transition probabilities of the environment.\n",
    "            env.P[s][a] is a (prob, next_state, reward, done) tuple.\n",
    "        theta: We stop evaluation once our value function change is less than theta for all states.\n",
    "        discount_factor: gamma discount factor.\n",
    "    \n",
    "    Returns:\n",
    "        Vector of length env.nS representing the value function.\n",
    "    \"\"\"\n",
    "    # Start with a random (all 0) value function\n",
    "    V = np.zeros(env.nS)\n",
    "    counter = 0\n",
    "    while True:\n",
    "        delta = 0.0\n",
    "        counter +=1\n",
    "        # One iteration of updates over all states\n",
    "        for s in range(env.nS):\n",
    "            v_a = 0.0\n",
    "            actions = random_policy[s]\n",
    "            \n",
    "            # Calc the value of all possible actions at this state\n",
    "            for a, a_prob in enumerate(actions): \n",
    "                # for each action extract all data to calc v(s) using Bellman\n",
    "                for transition_prob, next_state, reward, flag in env.P[s][a]:\n",
    "                    v_a += a_prob * transition_prob*(reward + discount_factor*V[next_state])\n",
    "            \n",
    "            delta = max(delta, abs(v_a-V[s]))\n",
    "            print(\"Delta:\", delta, \"State:\", s, \"Old Value:\", V[s], \"New Value:\", v_a)\n",
    "            V[s] = v_a\n",
    "                \n",
    "        # delta is the stopping condition - check delta every iteration\n",
    "        if delta <= theta:\n",
    "            print(\"Total sweeps: {}\".format(counter))\n",
    "            break\n",
    "            \n",
    "    return np.array(V)"
   ]
  },
  {
   "cell_type": "code",
   "execution_count": 3,
   "metadata": {
    "collapsed": true
   },
   "outputs": [],
   "source": [
    "env = GridworldEnv()"
   ]
  },
  {
   "cell_type": "markdown",
   "metadata": {},
   "source": [
    "Where env.P => dictionary: \n",
    "{0: \n",
    "     {0: [(1.0, 0, 0.0, True)],\n",
    "      1: [(1.0, 0, 0.0, True)],\n",
    "      2: [(1.0, 0, 0.0, True)],\n",
    "      3: [(1.0, 0, 0.0, True)]},\n",
    " 1: \n",
    "     {0: [(1.0, 1, -1.0, False)],\n",
    "      1: [(1.0, 2, -1.0, False)],\n",
    "      2: [(1.0, 5, -1.0, False)],\n",
    "      3: [(1.0, 0, -1.0, True)]},\n",
    "      .\n",
    "      .\n",
    "      .\n",
    " }\n",
    " \n",
    " env.P[s][a] "
   ]
  },
  {
   "cell_type": "code",
   "execution_count": 20,
   "metadata": {
    "collapsed": true
   },
   "outputs": [],
   "source": [
    "random_policy = np.ones([env.nS, env.nA]) / env.nA"
   ]
  },
  {
   "cell_type": "code",
   "execution_count": null,
   "metadata": {},
   "outputs": [],
   "source": [
    "v = policy_eval(random_policy, env)"
   ]
  },
  {
   "cell_type": "code",
   "execution_count": 22,
   "metadata": {
    "collapsed": true
   },
   "outputs": [],
   "source": [
    "# Test: Make sure the evaluated policy is what we expected\n",
    "expected_v = np.array([0, -14, -20, -22, -14, -18, -20, -20, -20, -20, -18, -14, -22, -20, -14, 0])\n",
    "np.testing.assert_array_almost_equal(v, expected_v, decimal=2)"
   ]
  },
  {
   "cell_type": "code",
   "execution_count": null,
   "metadata": {},
   "outputs": [],
   "source": [
    "# snippet to print the transition matrix and policy data from env: \n",
    "for s in range(env.nS):\n",
    "    actions = random_policy[s]\n",
    "    #print(actions)\n",
    "\n",
    "    for i, a in enumerate(actions): \n",
    "        #print (i, \"\", a)\n",
    "        for prob, next_state, reward, flag in env.P[s][i]:\n",
    "            print (\"state: \", s, \" action: \", i, \" action prob: \", a, \\\n",
    "                   \" next state: \", next_state, \" state prob: \", prob, \" reward: \", reward)\n",
    "\n"
   ]
  },
  {
   "cell_type": "code",
   "execution_count": 26,
   "metadata": {},
   "outputs": [
    {
     "data": {
      "text/plain": [
       "12"
      ]
     },
     "execution_count": 26,
     "metadata": {},
     "output_type": "execute_result"
    }
   ],
   "source": [
    "max(10,(20-8))"
   ]
  },
  {
   "cell_type": "code",
   "execution_count": null,
   "metadata": {
    "collapsed": true
   },
   "outputs": [],
   "source": []
  }
 ],
 "metadata": {
  "kernelspec": {
   "display_name": "Python 3",
   "language": "python",
   "name": "python3"
  },
  "language_info": {
   "codemirror_mode": {
    "name": "ipython",
    "version": 3
   },
   "file_extension": ".py",
   "mimetype": "text/x-python",
   "name": "python",
   "nbconvert_exporter": "python",
   "pygments_lexer": "ipython3",
   "version": "3.6.1"
  }
 },
 "nbformat": 4,
 "nbformat_minor": 1
}
